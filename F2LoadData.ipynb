{
 "cells": [
  {
   "cell_type": "markdown",
   "metadata": {},
   "source": [
    "# F2 Loading Template"
   ]
  },
  {
   "cell_type": "markdown",
   "metadata": {},
   "source": [
    "Input the names of the tdf, tbf, and tomo data folders, and the directory of the tomoFunctions module. \n",
    "\n",
    "Then chose the directory and name of the output data.\n",
    "\n",
    "ie:\n",
    "\n",
    "    tdfDataFolder='/nfs/chess/raw/2018-1/f2/hurley-698-3/conccube3/6/nf/'\n",
    "    tbfDataFolder='/nfs/chess/raw/2018-1/f2/hurley-698-3/conccube3/7/nf/'\n",
    "    tomoDataFolder='/nfs/chess/raw/2018-1/f2/hurley-698-3/conccube3/8/nf/'\n",
    "    moduleFolder = '/nfs/chess/aux/user/jk989/ver\\ 1.0.1/'\n",
    "    saveOutputName = '/nfs/chess/aux/user/jk989/mydata'"
   ]
  },
  {
   "cell_type": "code",
   "execution_count": 6,
   "metadata": {},
   "outputs": [],
   "source": [
    "tdfDataFolder='/nfs/chess/raw/2018-1/f2/hurley-698-3/conccube3/6/nf/'\n",
    "tbfDataFolder='/nfs/chess/raw/2018-1/f2/hurley-698-3/conccube3/7/nf/'\n",
    "tomoDataFolder='/nfs/chess/raw/2018-1/f2/hurley-698-3/conccube3/8/nf/'\n",
    "moduleFolder = '/nfs/chess/aux/user/jk989/ver\\ 1.0.1/'\n",
    "saveOutputName = '/nfs/chess/aux/user/jk989/data1.0.1'"
   ]
  },
  {
   "cell_type": "markdown",
   "metadata": {},
   "source": [
    "Import tomoFunctions."
   ]
  },
  {
   "cell_type": "code",
   "execution_count": 3,
   "metadata": {},
   "outputs": [
    {
     "name": "stderr",
     "output_type": "stream",
     "text": [
      "WARNING:dxchange.reader:astropy module not found\n"
     ]
    }
   ],
   "source": [
    "import sys\n",
    "sys.path.append(moduleFolder)\n",
    "import numpy as np\n",
    "import tomoFunctions as tf"
   ]
  },
  {
   "cell_type": "markdown",
   "metadata": {},
   "source": [
    "Process tomoImgs and theta."
   ]
  },
  {
   "cell_type": "code",
   "execution_count": 4,
   "metadata": {
    "scrolled": true
   },
   "outputs": [
    {
     "name": "stdout",
     "output_type": "stream",
     "text": [
      "Loading data for median dark field...\n",
      "complete!\n",
      "Loading data for median dark field...\n",
      "complete!\n",
      "Loading Images, Removing Negative Values, Applying Intensity Correction, Building Radiographs...\n",
      "Loading Image #: 0\n",
      "Loading Image #: 100\n",
      "Loading Image #: 200\n",
      "Loading Image #: 300\n",
      "Loading Image #: 400\n",
      "Loading Image #: 500\n",
      "Loading Image #: 600\n",
      "Loading Image #: 700\n",
      "Loading Image #: 800\n"
     ]
    },
    {
     "name": "stderr",
     "output_type": "stream",
     "text": [
      "/nfs/chess/sw/anaconda2_dp/envs/tomopy/lib/python2.7/site-packages/tomopy/prep/normalize.py:92: RuntimeWarning: divide by zero encountered in log\n",
      "  arr = np.log(arr, out) # in-place\n"
     ]
    },
    {
     "name": "stdout",
     "output_type": "stream",
     "text": [
      "Loading Image #: 900\n",
      "Loading Image #: 1000\n",
      "Loading Image #: 1100\n",
      "Loading Image #: 1200\n",
      "Loading Image #: 1300\n",
      "Loading Image #: 1400\n",
      "Loading Image #: 1500\n",
      "Loading Image #: 1600\n",
      "Loading Image #: 1700\n",
      "complete!\n"
     ]
    }
   ],
   "source": [
    "tdf = tf.genDark(tdfDataFolder)\n",
    "tbf = tf.genBright(tbfDataFolder, tdf)\n",
    "intCorr = tf.getIntCorr(tomoDataFolder)\n",
    "tomoImgs = tf.genTomo(tomoDataFolder, tdf, tbf, intCorr)\n",
    "theta = tf.getTheta(tomoDataFolder)"
   ]
  },
  {
   "cell_type": "markdown",
   "metadata": {},
   "source": [
    "Save the data into an hdf5."
   ]
  },
  {
   "cell_type": "code",
   "execution_count": 11,
   "metadata": {},
   "outputs": [
    {
     "name": "stdout",
     "output_type": "stream",
     "text": [
      "File saved at /nfs/chess/aux/user/jk989/data1.0.1.hdf5\n"
     ]
    }
   ],
   "source": [
    "tf.save(saveOutputName + '.hdf5',['sinograms','theta'],[tomoImgs, theta])"
   ]
  }
 ],
 "metadata": {
  "kernelspec": {
   "display_name": "Python 2",
   "language": "python",
   "name": "python2"
  },
  "language_info": {
   "codemirror_mode": {
    "name": "ipython",
    "version": 2
   },
   "file_extension": ".py",
   "mimetype": "text/x-python",
   "name": "python",
   "nbconvert_exporter": "python",
   "pygments_lexer": "ipython2",
   "version": "2.7.14"
  }
 },
 "nbformat": 4,
 "nbformat_minor": 2
}
